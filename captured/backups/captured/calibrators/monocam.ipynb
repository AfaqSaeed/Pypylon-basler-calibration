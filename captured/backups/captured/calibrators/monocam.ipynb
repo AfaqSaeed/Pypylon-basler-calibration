{
 "cells": [
  {
   "cell_type": "code",
   "execution_count": 1,
   "metadata": {},
   "outputs": [],
   "source": [
    "import cv2\n",
    "from numpy import *\n",
    "import numpy as np\n",
    "import os\n",
    "import random"
   ]
  },
  {
   "cell_type": "code",
   "execution_count": 2,
   "metadata": {},
   "outputs": [],
   "source": [
    "pathR = \"../right/\"\n",
    "pathL = \"../left/\"\n",
    "\n",
    "pathStR = \"../both/right/\"\n",
    "pathStL = \"../both/left/\"\n",
    "\n",
    "calibParams = \"./calibParams/\""
   ]
  },
  {
   "cell_type": "markdown",
   "metadata": {},
   "source": [
    "## Fetching images of individual cam"
   ]
  },
  {
   "cell_type": "code",
   "execution_count": 3,
   "metadata": {},
   "outputs": [
    {
     "name": "stdout",
     "output_type": "stream",
     "text": [
      "48 45\n",
      "['0_R_.png', '1_R_.png', '2_R_.png', '3_R_.png', '4_R_.png', '5_R_.png', '6_R_.png', '7_R_.png', '8_R_.png', '9_R_.png', '10_R_.png', '11_R_.png', '12_R_.png', '13_R_.png', '14_R_.png', '15_R_.png', '16_R_.png', '17_R_.png', '18_R_.png', '19_R_.png', '20_R_.png', '21_R_.png', '22_R_.png', '23_R_.png', '24_R_.png', '25_R_.png', '26_R_.png', '27_R_.png', '28_R_.png', '29_R_.png', '30_R_.png', '31_R_.png', '32_R_.png', '33_R_.png', '34_R_.png', '35_R_.png', '36_R_.png', '37_R_.png', '38_R_.png', '39_R_.png', '40_R_.png', '41_R_.png', '42_R_.png', '43_R_.png', '44_R_.png', '45_R_.png', '46_R_.png', '47_R_.png'] ['0_L_.png', '1_L_.png', '2_L_.png', '3_L_.png', '4_L_.png', '5_L_.png', '6_L_.png', '7_L_.png', '8_L_.png', '9_L_.png', '10_L_.png', '11_L_.png', '12_L_.png', '13_L_.png', '14_L_.png', '15_L_.png', '16_L_.png', '17_L_.png', '18_L_.png', '19_L_.png', '20_L_.png', '21_L_.png', '22_L_.png', '23_L_.png', '24_L_.png', '25_L_.png', '26_L_.png', '27_L_.png', '28_L_.png', '29_L_.png', '30_L_.png', '31_L_.png', '32_L_.png', '33_L_.png', '34_L_.png', '35_L_.png', '36_L_.png', '37_L_.png', '38_L_.png', '39_L_.png', '40_L_.png', '41_L_.png', '42_L_.png', '43_L_.png', '44_L_.png']\n",
      "\n",
      "After shuffle:\n",
      "\n",
      "['21_R_.png', '10_R_.png', '40_R_.png', '38_R_.png', '31_R_.png', '46_R_.png', '37_R_.png', '7_R_.png', '34_R_.png', '45_R_.png', '3_R_.png', '35_R_.png', '20_R_.png', '25_R_.png', '18_R_.png', '9_R_.png', '27_R_.png', '42_R_.png', '4_R_.png', '24_R_.png', '14_R_.png', '5_R_.png', '47_R_.png', '30_R_.png', '44_R_.png', '13_R_.png', '39_R_.png', '1_R_.png', '16_R_.png', '26_R_.png', '32_R_.png', '6_R_.png', '8_R_.png', '22_R_.png', '2_R_.png', '43_R_.png', '33_R_.png', '36_R_.png', '19_R_.png', '23_R_.png', '29_R_.png', '15_R_.png', '41_R_.png', '28_R_.png', '11_R_.png', '0_R_.png', '17_R_.png', '12_R_.png'] ['14_L_.png', '35_L_.png', '26_L_.png', '27_L_.png', '0_L_.png', '32_L_.png', '15_L_.png', '7_L_.png', '11_L_.png', '19_L_.png', '6_L_.png', '34_L_.png', '2_L_.png', '39_L_.png', '24_L_.png', '12_L_.png', '44_L_.png', '25_L_.png', '8_L_.png', '23_L_.png', '3_L_.png', '33_L_.png', '36_L_.png', '20_L_.png', '9_L_.png', '42_L_.png', '43_L_.png', '13_L_.png', '37_L_.png', '16_L_.png', '22_L_.png', '30_L_.png', '1_L_.png', '31_L_.png', '41_L_.png', '4_L_.png', '38_L_.png', '28_L_.png', '21_L_.png', '17_L_.png', '29_L_.png', '5_L_.png', '18_L_.png', '40_L_.png', '10_L_.png']\n"
     ]
    }
   ],
   "source": [
    "sizeR = size(os.listdir(pathR))\n",
    "sizeL = size(os.listdir(pathL))\n",
    "\n",
    "offset = 0\n",
    "listingsR = []\n",
    "for i in range(offset+0, offset+sizeR):\n",
    "    listingsR.append(f'{i}_R_.png')\n",
    "#endfor\n",
    "\n",
    "listingsL = []\n",
    "for i in range(offset+0, offset+sizeL):\n",
    "    listingsL.append(f'{i}_L_.png')\n",
    "#endfor\n",
    "\n",
    "print(sizeR, sizeL)\n",
    "print(listingsR, listingsL)\n",
    "\n",
    "print(\"\\nAfter shuffle:\\n\")\n",
    "random.shuffle(listingsR)\n",
    "random.shuffle(listingsL)\n",
    "print(listingsR, listingsL)"
   ]
  },
  {
   "cell_type": "code",
   "execution_count": 4,
   "metadata": {},
   "outputs": [
    {
     "name": "stdout",
     "output_type": "stream",
     "text": [
      "48\n",
      "45\n",
      "(1200, 1600)\n",
      "(1200, 1600)\n"
     ]
    }
   ],
   "source": [
    "imgRList = []\n",
    "i = 0\n",
    "while(i<sizeR):\n",
    "    imR = cv2.imread(pathR+listingsR[i], 0)\n",
    "    imgRList.append(imR)\n",
    "    i+=1\n",
    "#endwhile\n",
    "print(len(imgRList))\n",
    "\n",
    "imgLList = []\n",
    "i = 0\n",
    "while(i<sizeL):\n",
    "    imL = cv2.imread(pathL+listingsL[i], 0)\n",
    "    imgLList.append(imL)\n",
    "    i+=1\n",
    "#endwhile\n",
    "print(len(imgLList))\n",
    "\n",
    "if len(imgRList) > 0:\n",
    "    print(imgRList[0].shape)\n",
    "#endif\n",
    "\n",
    "if len(imgLList) > 0:\n",
    "    print(imgLList[0].shape)\n",
    "#endif"
   ]
  },
  {
   "cell_type": "code",
   "execution_count": 5,
   "metadata": {},
   "outputs": [
    {
     "name": "stdout",
     "output_type": "stream",
     "text": [
      "[[  0.   0.   0.]\n",
      " [ 27.   0.   0.]\n",
      " [ 54.   0.   0.]\n",
      " [ 81.   0.   0.]\n",
      " [108.   0.   0.]\n",
      " [135.   0.   0.]\n",
      " [162.   0.   0.]\n",
      " [  0.  27.   0.]\n",
      " [ 27.  27.   0.]\n",
      " [ 54.  27.   0.]\n",
      " [ 81.  27.   0.]\n",
      " [108.  27.   0.]\n",
      " [135.  27.   0.]\n",
      " [162.  27.   0.]\n",
      " [  0.  54.   0.]\n",
      " [ 27.  54.   0.]\n",
      " [ 54.  54.   0.]\n",
      " [ 81.  54.   0.]\n",
      " [108.  54.   0.]\n",
      " [135.  54.   0.]\n",
      " [162.  54.   0.]\n",
      " [  0.  81.   0.]\n",
      " [ 27.  81.   0.]\n",
      " [ 54.  81.   0.]\n",
      " [ 81.  81.   0.]\n",
      " [108.  81.   0.]\n",
      " [135.  81.   0.]\n",
      " [162.  81.   0.]\n",
      " [  0. 108.   0.]\n",
      " [ 27. 108.   0.]\n",
      " [ 54. 108.   0.]\n",
      " [ 81. 108.   0.]\n",
      " [108. 108.   0.]\n",
      " [135. 108.   0.]\n",
      " [162. 108.   0.]\n",
      " [  0. 135.   0.]\n",
      " [ 27. 135.   0.]\n",
      " [ 54. 135.   0.]\n",
      " [ 81. 135.   0.]\n",
      " [108. 135.   0.]\n",
      " [135. 135.   0.]\n",
      " [162. 135.   0.]\n",
      " [  0. 162.   0.]\n",
      " [ 27. 162.   0.]\n",
      " [ 54. 162.   0.]\n",
      " [ 81. 162.   0.]\n",
      " [108. 162.   0.]\n",
      " [135. 162.   0.]\n",
      " [162. 162.   0.]]\n"
     ]
    }
   ],
   "source": [
    "chessSqSize = 27\n",
    "h, w = 7, 7\n",
    "patternSize = (h,w)\n",
    "# prepare object points, like (0,0,0), (1,0,0), (2,0,0) ....,(6,5,0)\n",
    "objp = np.zeros((w*h,3), np.float32)\n",
    "objp[:,:2] = np.mgrid[0:h,0:w].T.reshape(-1,2)*chessSqSize\n",
    "print(objp)"
   ]
  },
  {
   "cell_type": "code",
   "execution_count": 6,
   "metadata": {},
   "outputs": [],
   "source": [
    "findChessboardFlags = None\n",
    "downScaleSize = (640,480)\n",
    "# font\n",
    "font = cv2.FONT_HERSHEY_SIMPLEX\n",
    "# org\n",
    "org = (50, 50)\n",
    "# fontScale\n",
    "fontScale = 1\n",
    "# Blue color in BGR\n",
    "color = (255, 0, 0)\n",
    "# Line thickness of 2 px\n",
    "thickness = 2"
   ]
  },
  {
   "cell_type": "markdown",
   "metadata": {},
   "source": [
    "## Right cam calibration"
   ]
  },
  {
   "cell_type": "code",
   "execution_count": 7,
   "metadata": {},
   "outputs": [
    {
     "name": "stderr",
     "output_type": "stream",
     "text": [
      "QApplication: invalid style override 'adwaita' passed, ignoring it.\n",
      "\tAvailable styles: Windows, Fusion\n"
     ]
    },
    {
     "ename": "Error",
     "evalue": "Canceled future for execute_request message before replies were done",
     "output_type": "error",
     "traceback": [
      "Error: Canceled future for execute_request message before replies were done",
      "at t.KernelShellFutureHandler.dispose (/home/iamzainum/.vscode/extensions/ms-toolsai.jupyter-2022.3.1000901801/out/extension.js:2:1204175)",
      "at /home/iamzainum/.vscode/extensions/ms-toolsai.jupyter-2022.3.1000901801/out/extension.js:2:1223227",
      "at Map.forEach (<anonymous>)",
      "at v._clearKernelState (/home/iamzainum/.vscode/extensions/ms-toolsai.jupyter-2022.3.1000901801/out/extension.js:2:1223212)",
      "at v.dispose (/home/iamzainum/.vscode/extensions/ms-toolsai.jupyter-2022.3.1000901801/out/extension.js:2:1216694)",
      "at /home/iamzainum/.vscode/extensions/ms-toolsai.jupyter-2022.3.1000901801/out/extension.js:2:533674",
      "at t.swallowExceptions (/home/iamzainum/.vscode/extensions/ms-toolsai.jupyter-2022.3.1000901801/out/extension.js:2:913059)",
      "at dispose (/home/iamzainum/.vscode/extensions/ms-toolsai.jupyter-2022.3.1000901801/out/extension.js:2:533652)",
      "at t.RawSession.dispose (/home/iamzainum/.vscode/extensions/ms-toolsai.jupyter-2022.3.1000901801/out/extension.js:2:537330)",
      "at processTicksAndRejections (node:internal/process/task_queues:96:5)"
     ]
    }
   ],
   "source": [
    "imgRightPoints = []\n",
    "objRightPoints = []\n",
    "\n",
    "j=0\n",
    "while(j<sizeR):\n",
    "    imageSize = imgRList[j].shape\n",
    "    rightFound, rightCorners = cv2.findChessboardCorners(imgRList[j], patternSize, flags = findChessboardFlags)\n",
    "    \n",
    "    if rightFound:\n",
    "        cv2.cornerSubPix(imgRList[j], rightCorners, (11,11), (-1,-1), (cv2.TERM_CRITERIA_EPS + cv2.TERM_CRITERIA_MAX_ITER, 30, 0.1))\n",
    "        imgRightPoints.append(rightCorners)\n",
    "        objRightPoints.append(objp)\n",
    "    #endif\n",
    "\n",
    "    cv2.drawChessboardCorners(imgRList[j], patternSize, rightCorners, rightFound)\n",
    "    cv2.putText(imgRList[j], f'{j}/{sizeR}', org, font, fontScale, color, thickness, cv2.LINE_AA)\n",
    "    #cv2.waitKey(300)\n",
    "    cv2.imshow(f'r chess', cv2.resize(imgRList[j], downScaleSize))\n",
    "    cv2.waitKey(200)\n",
    "    j+=1\n",
    "#endwhile\n",
    "cv2.destroyAllWindows()"
   ]
  },
  {
   "cell_type": "code",
   "execution_count": 9,
   "metadata": {},
   "outputs": [
    {
     "name": "stdout",
     "output_type": "stream",
     "text": [
      "23\n",
      "23\n"
     ]
    }
   ],
   "source": [
    "print(len(imgRightPoints))\n",
    "print(len(objRightPoints))"
   ]
  },
  {
   "cell_type": "code",
   "execution_count": 10,
   "metadata": {},
   "outputs": [
    {
     "name": "stdout",
     "output_type": "stream",
     "text": [
      "mean reprojection error - right:  0.45396938347500965\n",
      "roiR:  (346, 185, 955, 840)\n"
     ]
    }
   ],
   "source": [
    "# objRightPoints[0].type()\n",
    "retR, mtxR, distR, rvecsR, tvecsR = cv2.calibrateCamera(\n",
    "    objRightPoints,\n",
    "    imgRightPoints,\n",
    "    imgRList[0].shape[::-1],\n",
    "    None,None\n",
    ")\n",
    "\n",
    "hR,wR = imgRList[0].shape[:2]\n",
    "OmtxR, roiR = cv2.getOptimalNewCameraMatrix(mtxR, distR, (wR,hR), 1, (wR,hR))\n",
    "print('mean reprojection error - right: ', retR)\n",
    "print(\"roiR: \", roiR)"
   ]
  },
  {
   "cell_type": "code",
   "execution_count": 11,
   "metadata": {},
   "outputs": [],
   "source": [
    "img = imgRList[25].copy()\n",
    "# using cv2.undistort\n",
    "dst = cv2.undistort(img, mtxR, distR, None, OmtxR)\n",
    "x,y,w,h = roiR\n",
    "dst = dst[y:y+h, x:x+w]\n",
    "\n",
    "# using remapping\n",
    "rightMap = cv2.initUndistortRectifyMap(mtxR, distR, None, OmtxR, img.shape[::-1], cv2.CV_16SC2)\n",
    "rdst = cv2.remap(img,rightMap[0],rightMap[1], cv2.INTER_LANCZOS4, cv2.BORDER_CONSTANT, 0)\n",
    "x,y,w,h = roiR\n",
    "rdst = rdst[y:y+h, x:x+w]\n",
    "\n",
    "cv2.imshow('undist', cv2.resize(dst, downScaleSize))\n",
    "cv2.imshow('rundist', cv2.resize(rdst, downScaleSize))\n",
    "cv2.imshow('img', cv2.resize(img, downScaleSize))\n",
    "cv2.waitKey(0)\n",
    "cv2.destroyAllWindows()"
   ]
  },
  {
   "cell_type": "markdown",
   "metadata": {},
   "source": [
    "## Left cam calibration"
   ]
  },
  {
   "cell_type": "code",
   "execution_count": 12,
   "metadata": {},
   "outputs": [],
   "source": [
    "imgLeftPoints = []\n",
    "objLeftPoints = []\n",
    "\n",
    "j=0\n",
    "while(j<sizeL):\n",
    "    imageSize = imgLList[j].shape\n",
    "    leftFound, leftCorners = cv2.findChessboardCorners(imgLList[j], patternSize, flags = findChessboardFlags)\n",
    "    \n",
    "    if leftFound:\n",
    "        cv2.cornerSubPix(imgLList[j], leftCorners, (11,11), (-1,-1), (cv2.TERM_CRITERIA_EPS + cv2.TERM_CRITERIA_MAX_ITER, 30, 0.1))\n",
    "        imgLeftPoints.append(leftCorners)\n",
    "        objLeftPoints.append(objp)\n",
    "    #endif\n",
    "\n",
    "    cv2.drawChessboardCorners(imgLList[j], patternSize, leftCorners, leftFound)\n",
    "    cv2.putText(imgLList[j], f'{j}/{sizeL}', org, font, fontScale, color, thickness, cv2.LINE_AA)\n",
    "    #cv2.waitKey(300)\n",
    "    cv2.imshow(f'l chess', cv2.resize(imgLList[j], downScaleSize))\n",
    "    cv2.waitKey(200)\n",
    "    j+=1\n",
    "#endwhile\n",
    "cv2.destroyAllWindows()"
   ]
  },
  {
   "cell_type": "code",
   "execution_count": 13,
   "metadata": {},
   "outputs": [
    {
     "name": "stdout",
     "output_type": "stream",
     "text": [
      "20\n",
      "20\n"
     ]
    }
   ],
   "source": [
    "print(len(imgLeftPoints))\n",
    "print(len(objLeftPoints))"
   ]
  },
  {
   "cell_type": "code",
   "execution_count": 14,
   "metadata": {},
   "outputs": [
    {
     "name": "stdout",
     "output_type": "stream",
     "text": [
      "mean reprojection error - left:  0.42556934052755035\n",
      "roiL:  (317, 182, 1007, 835)\n"
     ]
    }
   ],
   "source": [
    "retL, mtxL, distL, rvecsL, tvecsL = cv2.calibrateCamera(\n",
    "    objLeftPoints,\n",
    "    imgLeftPoints,\n",
    "    imgLList[0].shape[::-1],\n",
    "    None,None\n",
    ")\n",
    "\n",
    "hL,wL = imgLList[0].shape[:2]\n",
    "OmtxL, roiL = cv2.getOptimalNewCameraMatrix(mtxL, distL, (wL,hL), 1, (wL,hL))\n",
    "print('mean reprojection error - left: ', retL)\n",
    "print(\"roiL: \", roiL)"
   ]
  },
  {
   "cell_type": "code",
   "execution_count": 15,
   "metadata": {},
   "outputs": [],
   "source": [
    "img = imgLList[1].copy()\n",
    "# using cv2.undistort\n",
    "dst = cv2.undistort(img, mtxL, distL, None, OmtxL)\n",
    "x,y,w,h = roiL\n",
    "dst = dst[y:y+h, x:x+w]\n",
    "\n",
    "# using remapping\n",
    "leftMap = cv2.initUndistortRectifyMap(mtxL, distL, None, OmtxL, img.shape[::-1], cv2.CV_16SC2)\n",
    "ldst = cv2.remap(img,leftMap[0],leftMap[1], cv2.INTER_LANCZOS4, cv2.BORDER_CONSTANT, 0)\n",
    "x,y,w,h = roiL\n",
    "ldst = ldst[y:y+h, x:x+w]\n",
    "\n",
    "cv2.imshow('undist', cv2.resize(dst, downScaleSize))\n",
    "cv2.imshow('rundist', cv2.resize(ldst, downScaleSize))\n",
    "cv2.imshow('img', cv2.resize(img, downScaleSize))\n",
    "cv2.waitKey(0)\n",
    "cv2.destroyAllWindows()"
   ]
  },
  {
   "cell_type": "code",
   "execution_count": 16,
   "metadata": {},
   "outputs": [
    {
     "name": "stdout",
     "output_type": "stream",
     "text": [
      "\n",
      " format -> \n",
      " [['fx', '0', 'cx'], ['0', 'fy', 'cy'], ['0', '0', '1']]\n",
      "\n",
      " mtxR -> \n",
      " [[882.09909671   0.         804.02747442]\n",
      " [  0.         892.74988953 623.96069536]\n",
      " [  0.           0.           1.        ]] \n",
      "\n",
      " OmtxR -> \n",
      " [[526.71691895   0.         826.17698349]\n",
      " [  0.         625.07714844 621.7586973 ]\n",
      " [  0.           0.           1.        ]] \n",
      "\n",
      " mtxL -> \n",
      " [[859.7605329    0.         810.69078441]\n",
      " [  0.         868.8451415  599.75022877]\n",
      " [  0.           0.           1.        ]] \n",
      "\n",
      " OmtxL -> \n",
      " [[540.90814209   0.         827.34209175]\n",
      " [  0.         604.84527588 599.73413412]\n",
      " [  0.           0.           1.        ]]\n"
     ]
    }
   ],
   "source": [
    "formatm = [[\"fx\",\"0\",\"cx\"],[\"0\",\"fy\",\"cy\"],[\"0\",\"0\",\"1\"]]\n",
    "print('\\n format -> \\n',formatm)\n",
    "print('\\n mtxR -> \\n',mtxR,2*'\\n','OmtxR -> \\n',OmtxR,2*'\\n','mtxL -> \\n',mtxL,2*'\\n','OmtxL -> \\n',OmtxL)"
   ]
  },
  {
   "cell_type": "markdown",
   "metadata": {},
   "source": [
    "## Stereo cam calibration"
   ]
  },
  {
   "cell_type": "code",
   "execution_count": 80,
   "metadata": {},
   "outputs": [
    {
     "name": "stdout",
     "output_type": "stream",
     "text": [
      "12 12\n",
      "['9_R_.png', '10_R_.png', '11_R_.png', '12_R_.png', '13_R_.png', '14_R_.png', '15_R_.png', '16_R_.png', '17_R_.png', '18_R_.png', '19_R_.png', '20_R_.png'] ['9_L_.png', '10_L_.png', '11_L_.png', '12_L_.png', '13_L_.png', '14_L_.png', '15_L_.png', '16_L_.png', '17_L_.png', '18_L_.png', '19_L_.png', '20_L_.png']\n",
      "\n",
      "After shuffle:\n",
      "\n",
      "('19_R_.png', '11_R_.png', '20_R_.png', '14_R_.png', '17_R_.png', '12_R_.png', '15_R_.png', '9_R_.png', '13_R_.png', '10_R_.png', '16_R_.png', '18_R_.png') ('19_L_.png', '11_L_.png', '20_L_.png', '14_L_.png', '17_L_.png', '12_L_.png', '15_L_.png', '9_L_.png', '13_L_.png', '10_L_.png', '16_L_.png', '18_L_.png')\n"
     ]
    }
   ],
   "source": [
    "sizeStR = size(os.listdir(pathStR))\n",
    "sizeStL = size(os.listdir(pathStL))\n",
    "\n",
    "offset = 9\n",
    "listingsStR = []\n",
    "for i in range(offset+0, offset+sizeStR):\n",
    "    listingsStR.append(f'{i}_R_.png')\n",
    "#endfor\n",
    "\n",
    "listingsStL = []\n",
    "for i in range(offset+0, offset+sizeStL):\n",
    "    listingsStL.append(f'{i}_L_.png')\n",
    "#endfor\n",
    "\n",
    "print(sizeStR, sizeStL)\n",
    "print(listingsStR, listingsStL)\n",
    "\n",
    "print(\"\\nAfter shuffle:\\n\")\n",
    "temp = list(zip(listingsStR, listingsStL))\n",
    "random.shuffle(temp)\n",
    "listingsStR, listingsStL = zip(*temp)\n",
    "print(listingsStR, listingsStL)"
   ]
  },
  {
   "cell_type": "code",
   "execution_count": 81,
   "metadata": {},
   "outputs": [
    {
     "name": "stdout",
     "output_type": "stream",
     "text": [
      "12\n",
      "12\n",
      "(1200, 1600)\n",
      "(1200, 1600)\n"
     ]
    }
   ],
   "source": [
    "imgStRList = []\n",
    "i = 0\n",
    "while(i<sizeStR):\n",
    "    imStR = cv2.imread(pathStR+listingsStR[i], 0)\n",
    "    imgStRList.append(imStR)\n",
    "    i+=1\n",
    "#endwhile\n",
    "print(len(imgStRList))\n",
    "\n",
    "imgStLList = []\n",
    "i = 0\n",
    "while(i<sizeStL):\n",
    "    imStL = cv2.imread(pathStL+listingsStL[i], 0)\n",
    "    imgStLList.append(imStL)\n",
    "    i+=1\n",
    "#endwhile\n",
    "print(len(imgStLList))\n",
    "\n",
    "print(imgStRList[0].shape)\n",
    "print(imgStLList[0].shape)"
   ]
  },
  {
   "cell_type": "code",
   "execution_count": 82,
   "metadata": {},
   "outputs": [
    {
     "name": "stdout",
     "output_type": "stream",
     "text": [
      "[[  0.   0.   0.]\n",
      " [ 27.   0.   0.]\n",
      " [ 54.   0.   0.]\n",
      " [ 81.   0.   0.]\n",
      " [108.   0.   0.]\n",
      " [135.   0.   0.]\n",
      " [162.   0.   0.]\n",
      " [  0.  27.   0.]\n",
      " [ 27.  27.   0.]\n",
      " [ 54.  27.   0.]\n",
      " [ 81.  27.   0.]\n",
      " [108.  27.   0.]\n",
      " [135.  27.   0.]\n",
      " [162.  27.   0.]\n",
      " [  0.  54.   0.]\n",
      " [ 27.  54.   0.]\n",
      " [ 54.  54.   0.]\n",
      " [ 81.  54.   0.]\n",
      " [108.  54.   0.]\n",
      " [135.  54.   0.]\n",
      " [162.  54.   0.]\n",
      " [  0.  81.   0.]\n",
      " [ 27.  81.   0.]\n",
      " [ 54.  81.   0.]\n",
      " [ 81.  81.   0.]\n",
      " [108.  81.   0.]\n",
      " [135.  81.   0.]\n",
      " [162.  81.   0.]\n",
      " [  0. 108.   0.]\n",
      " [ 27. 108.   0.]\n",
      " [ 54. 108.   0.]\n",
      " [ 81. 108.   0.]\n",
      " [108. 108.   0.]\n",
      " [135. 108.   0.]\n",
      " [162. 108.   0.]\n",
      " [  0. 135.   0.]\n",
      " [ 27. 135.   0.]\n",
      " [ 54. 135.   0.]\n",
      " [ 81. 135.   0.]\n",
      " [108. 135.   0.]\n",
      " [135. 135.   0.]\n",
      " [162. 135.   0.]\n",
      " [  0. 162.   0.]\n",
      " [ 27. 162.   0.]\n",
      " [ 54. 162.   0.]\n",
      " [ 81. 162.   0.]\n",
      " [108. 162.   0.]\n",
      " [135. 162.   0.]\n",
      " [162. 162.   0.]]\n"
     ]
    }
   ],
   "source": [
    "chessSqSize = 27\n",
    "h, w = 7,7\n",
    "patternSize = (h,w)\n",
    "# prepare object points, like (0,0,0), (1,0,0), (2,0,0) ....,(6,5,0)\n",
    "objp = np.zeros((w*h,3), np.float32)\n",
    "objp[:,:2] = np.mgrid[0:h,0:w].T.reshape(-1,2)*chessSqSize\n",
    "print(objp)"
   ]
  },
  {
   "cell_type": "code",
   "execution_count": 83,
   "metadata": {},
   "outputs": [],
   "source": [
    "imgStLeftPoints = []\n",
    "imgStRightPoints = []\n",
    "objStPoints = []\n",
    "\n",
    "j=0\n",
    "while(j<sizeStR):\n",
    "    # print(j)\n",
    "    imageSize = imgStLList[j].shape\n",
    "\n",
    "    leftFound, leftCorners = cv2.findChessboardCorners(imgStLList[j], patternSize, flags = findChessboardFlags)\n",
    "    rightFound, rightCorners = cv2.findChessboardCorners(imgStRList[j], patternSize, flags = findChessboardFlags)\n",
    "\n",
    "    if leftFound:\n",
    "        cv2.cornerSubPix(imgStLList[j], leftCorners, (11,11), (-1,-1), (cv2.TERM_CRITERIA_EPS + cv2.TERM_CRITERIA_MAX_ITER, 30, 0.1))\n",
    "    #endif\n",
    "\n",
    "    if rightFound:\n",
    "        cv2.cornerSubPix(imgStRList[j], rightCorners, (11,11), (-1,-1), (cv2.TERM_CRITERIA_EPS + cv2.TERM_CRITERIA_MAX_ITER, 30, 0.1))\n",
    "    #endif\n",
    "\n",
    "    if leftFound and rightFound:\n",
    "        imgStLeftPoints.append(leftCorners)\n",
    "        imgStRightPoints.append(rightCorners)\n",
    "        objStPoints.append(objp)\n",
    "    #endif\n",
    "\n",
    "    cv2.drawChessboardCorners(imgStLList[j], patternSize, leftCorners, leftFound)\n",
    "    cv2.drawChessboardCorners(imgStRList[j], patternSize, rightCorners, rightFound)\n",
    "    cv2.putText(imgStLList[j], f'{j}/{sizeStL}', org, font, fontScale, color, thickness, cv2.LINE_AA)\n",
    "    cv2.putText(imgStRList[j], f'{j}/{sizeStR}', org, font, fontScale, color, thickness, cv2.LINE_AA)\n",
    "\n",
    "    cv2.imshow(\"stl chess\", cv2.resize(imgStLList[j], downScaleSize))\n",
    "    cv2.imshow(\"str chess\", cv2.resize(imgStRList[j], downScaleSize))\n",
    "    cv2.waitKey(200)\n",
    "    j+=1\n",
    "#endwhile\n",
    "\n",
    "cv2.destroyAllWindows()"
   ]
  },
  {
   "cell_type": "code",
   "execution_count": 84,
   "metadata": {},
   "outputs": [],
   "source": [
    "cv2.destroyAllWindows()"
   ]
  },
  {
   "cell_type": "code",
   "execution_count": 85,
   "metadata": {},
   "outputs": [
    {
     "name": "stdout",
     "output_type": "stream",
     "text": [
      "4\n",
      "4\n"
     ]
    }
   ],
   "source": [
    "print(len(imgStLeftPoints))\n",
    "print(len(imgStRightPoints))"
   ]
  },
  {
   "cell_type": "code",
   "execution_count": 86,
   "metadata": {},
   "outputs": [
    {
     "name": "stdout",
     "output_type": "stream",
     "text": [
      "mean reprojection error - stereo  0.6540944502144848\n",
      " MRS ->  [[882.09909671   0.         804.02747442]\n",
      " [  0.         892.74988953 623.96069536]\n",
      " [  0.           0.           1.        ]] \n",
      "\n",
      " mtxR ->  [[882.09909671   0.         804.02747442]\n",
      " [  0.         892.74988953 623.96069536]\n",
      " [  0.           0.           1.        ]] \n",
      "\n",
      " MLS ->  [[859.7605329    0.         810.69078441]\n",
      " [  0.         868.8451415  599.75022877]\n",
      " [  0.           0.           1.        ]] \n",
      "\n",
      " mtxL ->  [[859.7605329    0.         810.69078441]\n",
      " [  0.         868.8451415  599.75022877]\n",
      " [  0.           0.           1.        ]]\n",
      " Rotational -> \n",
      " [[ 0.9998516  -0.01284173 -0.01148378]\n",
      " [ 0.01247694  0.99943239 -0.03129264]\n",
      " [ 0.01187912  0.03114471  0.99944429]] \n",
      "\n",
      " Translational -> \n",
      " [[314.80015321]\n",
      " [ -1.39355281]\n",
      " [ 21.92298694]] \n",
      "\n",
      " Essential -> \n",
      " [[-2.90085926e-01 -2.19539450e+01 -7.06750236e-01]\n",
      " [ 1.81801858e+01 -1.00858901e+01 -3.14876975e+02]\n",
      " [ 5.32108801e+00  3.14603573e+02 -9.86693151e+00]] \n",
      "\n",
      " Fundamental -> \n",
      " [[ 2.09251367e-08  1.56707342e-06 -9.12985080e-04]\n",
      " [-1.29576884e-06  7.11342207e-07  1.99189665e-02]\n",
      " [ 4.53105877e-04 -2.15126029e-02  1.00000000e+00]]\n"
     ]
    }
   ],
   "source": [
    "# stCriteria = (cv2.TERM_CRITERIA_EPS + cv2.TERM_CRITERIA_MAX_ITER, 30, 0.1)\n",
    "stCriteria = (cv2.TERM_CRITERIA_EPS + cv2.TERM_CRITERIA_MAX_ITER, 100, 0.0001)\n",
    "stFlags = cv2.CALIB_FIX_ASPECT_RATIO | cv2.CALIB_ZERO_TANGENT_DIST | cv2.CALIB_SAME_FOCAL_LENGTH | cv2.CALIB_RATIONAL_MODEL | cv2.CALIB_FIX_K3 | cv2.CALIB_FIX_K4 | cv2.CALIB_FIX_K5\n",
    "# stFlags = cv2.CALIB_FIX_INTRINSIC\n",
    "retS, MLS, dLS, MRS, dRS, R, T, E, F = cv2.stereoCalibrate(\n",
    "    objStPoints,\n",
    "    imgStLeftPoints,\n",
    "    imgStRightPoints,\n",
    "    mtxL,\n",
    "    distL,\n",
    "    mtxR,\n",
    "    distR,\n",
    "    imStR.shape[::-1],\n",
    "    stCriteria,\n",
    "    stFlags\n",
    ")\n",
    "\n",
    "print('mean reprojection error - stereo ', retS)\n",
    "print(' MRS -> ',MRS,2*'\\n','mtxR -> ',mtxR,2*'\\n','MLS -> ',MLS,2*'\\n','mtxL -> ',mtxL)\n",
    "print(' Rotational -> \\n',R,2*'\\n','Translational -> \\n',T,2*'\\n','Essential -> \\n',E,2*'\\n','Fundamental -> \\n',F)"
   ]
  },
  {
   "cell_type": "code",
   "execution_count": null,
   "metadata": {},
   "outputs": [],
   "source": [
    "np.save(calibParams+'R.npy', R)\n",
    "np.save(calibParams+'T.npy', T)\n",
    "np.save(calibParams+'E.npy', E)\n",
    "np.save(calibParams+'F.npy', F)\n",
    "\n",
    "np.save(calibParams+'MLS.npy', MLS)\n",
    "np.save(calibParams+'dLS.npy', dLS)\n",
    "np.save(calibParams+'MRS.npy', MRS)\n",
    "np.save(calibParams+'dRS.npy', dRS)"
   ]
  },
  {
   "cell_type": "code",
   "execution_count": 87,
   "metadata": {},
   "outputs": [],
   "source": [
    "rectifyScale = 0 # if 0 image croped, if 1 image nor croped\n",
    "RL, RR, PL, PR, Q, roiL, roiR = cv2.stereoRectify(MLS, dLS, MRS, dRS, imStR.shape[::-1], R, T, rectifyScale) # last paramater is alpha, if 0= croped, if 1= not croped\n",
    "# initUndistortRectifyMap function\n",
    "leftStereoMap = cv2.initUndistortRectifyMap(MLS, dLS, RL, PL, imStL.shape[::-1], cv2.CV_16SC2)   # cv2.CV_16SC2 this format enables us the programme to work faster\n",
    "rightStereoMap = cv2.initUndistortRectifyMap(MRS, dRS, RR, PR, imStR.shape[::-1], cv2.CV_16SC2)"
   ]
  },
  {
   "cell_type": "code",
   "execution_count": null,
   "metadata": {},
   "outputs": [],
   "source": [
    "np.save(calibParams+'RL.npy', RL)\n",
    "np.save(calibParams+'RR.npy', RR)\n",
    "np.save(calibParams+'PL.npy', PL)\n",
    "np.save(calibParams+'PR.npy', PR)\n",
    "np.save(calibParams+'Q.npy', Q)"
   ]
  },
  {
   "cell_type": "code",
   "execution_count": 54,
   "metadata": {},
   "outputs": [],
   "source": [
    "def drawLines(img):\n",
    "    y,count = 0,0\n",
    "    while(count<40):\n",
    "        img = cv2.line(img, (0,50+y), (img.shape[1],50+y), (y,count*2,y), 2)\n",
    "        y+=30\n",
    "        count+=1\n",
    "    #endwhile\n",
    "    return cv2.resize(img, (640,480))\n",
    "#enddef"
   ]
  },
  {
   "cell_type": "code",
   "execution_count": 88,
   "metadata": {},
   "outputs": [],
   "source": [
    "picNum = '19'\n",
    "rectPath = \"../rectified/\"\n",
    "frameL = cv2.imread(pathStL+picNum+'_L_.png')\n",
    "frameR = cv2.imread(pathStR+picNum+'_R_.png')\n",
    "\n",
    "leftNice = cv2.remap(frameL,leftStereoMap[0],leftStereoMap[1], cv2.INTER_LANCZOS4, cv2.BORDER_CONSTANT, 0)  # Rectify the image using the kalibration parameters founds during the initialisation\n",
    "rightNice = cv2.remap(frameR,rightStereoMap[0],rightStereoMap[1], cv2.INTER_LANCZOS4, cv2.BORDER_CONSTANT, 0)\n",
    "\n",
    "frameLCpy = frameL.copy()\n",
    "frameRCpy = frameR.copy()\n",
    "\n",
    "xr,yr,wr,hr = roiR\n",
    "xl,yl,wl,hl = roiL\n",
    "\n",
    "rightImgRemapCp = rightNice.copy()\n",
    "leftImgRemapCp = leftNice.copy()\n",
    "\n",
    "cv2.imshow('R', drawLines(frameRCpy))\n",
    "cv2.imshow('L', drawLines(frameLCpy))\n",
    "cv2.imshow('R rect', drawLines(rightImgRemapCp))\n",
    "cv2.imshow('L rect', drawLines(leftImgRemapCp))\n",
    "cv2.waitKey(0)\n",
    "\n",
    "origLR = np.concatenate((frameLCpy, frameRCpy), axis=1)\n",
    "cv2.imwrite(rectPath+picNum+'_orig.png', origLR)\n",
    "rectLR = np.concatenate((leftImgRemapCp, rightImgRemapCp), axis=1)\n",
    "cv2.imwrite(rectPath+picNum+'_rect.png', rectLR)\n",
    "cv2.destroyAllWindows()"
   ]
  }
 ],
 "metadata": {
  "interpreter": {
   "hash": "31f2aee4e71d21fbe5cf8b01ff0e069b9275f58929596ceb00d14d90e3e16cd6"
  },
  "kernelspec": {
   "display_name": "Python 3.8.10 64-bit",
   "name": "python3"
  },
  "language_info": {
   "codemirror_mode": {
    "name": "ipython",
    "version": 3
   },
   "file_extension": ".py",
   "mimetype": "text/x-python",
   "name": "python",
   "nbconvert_exporter": "python",
   "pygments_lexer": "ipython3",
   "version": "3.8.10"
  },
  "orig_nbformat": 4
 },
 "nbformat": 4,
 "nbformat_minor": 2
}
